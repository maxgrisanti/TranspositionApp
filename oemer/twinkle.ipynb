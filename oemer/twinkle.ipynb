{
 "cells": [
  {
   "cell_type": "code",
   "execution_count": 6,
   "metadata": {},
   "outputs": [
    {
     "data": {
      "text/plain": [
       "0"
      ]
     },
     "execution_count": 6,
     "metadata": {},
     "output_type": "execute_result"
    }
   ],
   "source": [
    "from music21 import *\n",
    "import os\n",
    "\n",
    "#n = note.Note(\"D#3\")\n",
    "#n.duration.type = 'half'\n",
    "\n",
    "#score = stream.Score()\n",
    "#score.append(n)\n",
    "twinkle_notes = [('C', 'quarter'), ('C', 'quarter'), ('G', 'quarter'), ('G', 'quarter'),\n",
    "                 ('A', 'quarter'), ('A', 'quarter'), ('G', 'half'),\n",
    "                 ('F', 'quarter'), ('F', 'quarter'), ('E', 'quarter'), ('E', 'quarter'),\n",
    "                 ('D', 'quarter'), ('D', 'quarter'), ('C', 'half'),\n",
    "                 ('G', 'quarter'), ('G', 'quarter'), ('F', 'quarter'), ('F', 'quarter'),\n",
    "                 ('E', 'quarter'), ('E', 'quarter'), ('D', 'half'),\n",
    "                 ('G', 'quarter'), ('G', 'quarter'), ('F', 'quarter'), ('F', 'quarter'),\n",
    "                 ('E', 'quarter'), ('E', 'quarter'), ('D', 'half'),\n",
    "                 ('C', 'quarter'), ('C', 'quarter'), ('G', 'quarter'), ('G', 'quarter'),\n",
    "                 ('A', 'quarter'), ('A', 'quarter'), ('G', 'half'),\n",
    "                 ('F', 'quarter'), ('F', 'quarter'), ('E', 'quarter'), ('E', 'quarter'),\n",
    "                 ('D', 'quarter'), ('D', 'quarter'), ('C', 'half')]\n",
    "\n",
    "# Create a stream for the notes\n",
    "twinkle_stream = stream.Stream()\n",
    "\n",
    "# Iterate over the notes and add them to the stream\n",
    "for note_name, duration in twinkle_notes:\n",
    "    new_note = note.Note(note_name)\n",
    "    new_note.duration.type = duration\n",
    "    twinkle_stream.append(new_note)\n",
    "\n",
    "# Set the time signature to 4/4\n",
    "twinkle_stream.insert(0, meter.TimeSignature('4/4'))\n",
    "\n",
    "# Create a Treble clef\n",
    "treble_clef = clef.TrebleClef()\n",
    "\n",
    "# Insert the Treble clef at the beginning of the stream\n",
    "twinkle_stream.insert(0, treble_clef)\n",
    "# Define the directory to save the files\n",
    "save_dir = \"/Users/harikoornala/Downloads/otests\"\n",
    "\n",
    "# Check if the directory exists, if not, create it\n",
    "if not os.path.exists(save_dir):\n",
    "    os.makedirs(save_dir)\n",
    "\n",
    "# Save the Score as MusicXML to the specified directory\n",
    "file_name = \"temp_score.xml\"\n",
    "file_path = os.path.join(save_dir, file_name)\n",
    "twinkle_stream.write('musicxml', fp=file_path)\n",
    "\n",
    "# Open the MusicXML file using the default application\n",
    "os.system(f\"open {file_path}\")\n"
   ]
  },
  {
   "cell_type": "code",
   "execution_count": null,
   "metadata": {},
   "outputs": [],
   "source": []
  }
 ],
 "metadata": {
  "kernelspec": {
   "display_name": "Python 3",
   "language": "python",
   "name": "python3"
  },
  "language_info": {
   "codemirror_mode": {
    "name": "ipython",
    "version": 3
   },
   "file_extension": ".py",
   "mimetype": "text/x-python",
   "name": "python",
   "nbconvert_exporter": "python",
   "pygments_lexer": "ipython3",
   "version": "3.12.0"
  },
  "orig_nbformat": 4
 },
 "nbformat": 4,
 "nbformat_minor": 2
}
